{
  "cells": [
    {
      "cell_type": "markdown",
      "metadata": {
        "id": "Ax6Rl0oA1XLe"
      },
      "source": [
        "# **How to Run AS-One in Google Colab**\n",
        "\n",
        "This tutorial is based on the [AS-One repository](https://github.com/augmentedstartups/AS-One) by Augmented Startups. This notebook shows how to run AS-One in Google Colab\n",
        "\n",
        "\n",
        "### **Steps Covered in this Tutorial**\n",
        "\n",
        "To run AS-One in Google Colab successfully we will follow the following steps:\n",
        "\n",
        "1. Installing Dependencies\n",
        "2. Creating Virtual Screen in Colab\n",
        "3. Run AS-One\n",
        "4. Tracking Trails\n",
        "\n",
        "# **Want to Become a Computer Vision Expert?**\n",
        "💻 [ Get Started](https://augmentedstartups.info/YOLOv7GetStarted) with YOLOv7.  <br>\n",
        "⭐ Download other Projects at the [AI Vision Store](https://store.augmentedstartups.com)<br>\n",
        "☕ Enjoyed this Tutorial? - Support me by Buying Me a [Chai/Coffee](https://bit.ly/BuymeaCoffeeAS)\n",
        "\n",
        "\n",
        "# **About**\n",
        "\n",
        "[Augmented Startups](https://www.augmentedstartups.com) provides tutorials in AI Computer Vision and Augmented Reality. With over **100K subscribers** on our channel, we teach state-of-art models and build apps and projects that solve real-world problems. \n",
        "\n",
        "\n",
        "![picture](https://kajabi-storefronts-production.kajabi-cdn.com/kajabi-storefronts-production/sites/104576/images/Vc8nhFV6Rgmi402Wqm0Q_AugmentedStartupsSideROBOTICSNEW.png)\n",
        "\n",
        "\n",
        "\n"
      ]
    },
    {
      "cell_type": "markdown",
      "metadata": {
        "id": "mTIyHGxqe2yk"
      },
      "source": [
        "# **1. Installing Dependencies**"
      ]
    },
    {
      "cell_type": "markdown",
      "metadata": {
        "id": "2zykwEgxh1mD"
      },
      "source": [
        "**Note**: While installing dependencies it will prompt to restart runtime, don't worry just restart it "
      ]
    },
    {
      "cell_type": "code",
      "execution_count": 1,
      "metadata": {
        "colab": {
          "base_uri": "https://localhost:8080/"
        },
        "id": "91YsgTKJhbC6",
        "outputId": "5f9b9cd6-106e-4c4b-96f8-2d26d4009c00"
      },
      "outputs": [
        {
          "output_type": "stream",
          "name": "stdout",
          "text": [
            "Cloning into 'AS-One'...\n",
            "remote: Enumerating objects: 2375, done.\u001b[K\n",
            "remote: Counting objects: 100% (796/796), done.\u001b[K\n",
            "remote: Compressing objects: 100% (429/429), done.\u001b[K\n",
            "remote: Total 2375 (delta 394), reused 745 (delta 358), pack-reused 1579\u001b[K\n",
            "Receiving objects: 100% (2375/2375), 143.83 MiB | 41.52 MiB/s, done.\n",
            "Resolving deltas: 100% (1306/1306), done.\n",
            "Updating files: 100% (209/209), done.\n",
            "/content/AS-One\n",
            "Looking in indexes: https://pypi.org/simple, https://us-python.pkg.dev/colab-wheels/public/simple/\n",
            "Collecting cython-bbox\n",
            "  Downloading cython_bbox-0.1.3.tar.gz (41 kB)\n",
            "\u001b[2K     \u001b[90m━━━━━━━━━━━━━━━━━━━━━━━━━━━━━━━━━━━━━━━━\u001b[0m \u001b[32m41.3/41.3 KB\u001b[0m \u001b[31m5.2 MB/s\u001b[0m eta \u001b[36m0:00:00\u001b[0m\n",
            "\u001b[?25h  Preparing metadata (setup.py) ... \u001b[?25l\u001b[?25hdone\n",
            "Building wheels for collected packages: cython-bbox\n",
            "  Building wheel for cython-bbox (setup.py) ... \u001b[?25l\u001b[?25hdone\n",
            "  Created wheel for cython-bbox: filename=cython_bbox-0.1.3-cp38-cp38-linux_x86_64.whl size=68753 sha256=14ebb7a3ae5ec264877afcc77338af54c75037a1d99ba0a557c6e2054d714020\n",
            "  Stored in directory: /root/.cache/pip/wheels/56/8d/2a/c7f38dc46bdfdee9aee8676cf3adf70d6e6e28b076cdb17963\n",
            "Successfully built cython-bbox\n",
            "Installing collected packages: cython-bbox\n",
            "Successfully installed cython-bbox-0.1.3\n",
            "Looking in indexes: https://pypi.org/simple, https://us-python.pkg.dev/colab-wheels/public/simple/\n",
            "Collecting lap\n",
            "  Downloading lap-0.4.0.tar.gz (1.5 MB)\n",
            "\u001b[2K     \u001b[90m━━━━━━━━━━━━━━━━━━━━━━━━━━━━━━━━━━━━━━━━\u001b[0m \u001b[32m1.5/1.5 MB\u001b[0m \u001b[31m65.9 MB/s\u001b[0m eta \u001b[36m0:00:00\u001b[0m\n",
            "\u001b[?25h  Preparing metadata (setup.py) ... \u001b[?25l\u001b[?25hdone\n",
            "Collecting loguru\n",
            "  Downloading loguru-0.6.0-py3-none-any.whl (58 kB)\n",
            "\u001b[2K     \u001b[90m━━━━━━━━━━━━━━━━━━━━━━━━━━━━━━━━━━━━━━━━\u001b[0m \u001b[32m58.3/58.3 KB\u001b[0m \u001b[31m8.9 MB/s\u001b[0m eta \u001b[36m0:00:00\u001b[0m\n",
            "\u001b[?25hCollecting norfair\n",
            "  Downloading norfair-2.2.0-py3-none-any.whl (55 kB)\n",
            "\u001b[2K     \u001b[90m━━━━━━━━━━━━━━━━━━━━━━━━━━━━━━━━━━━━━━━━\u001b[0m \u001b[32m55.6/55.6 KB\u001b[0m \u001b[31m8.4 MB/s\u001b[0m eta \u001b[36m0:00:00\u001b[0m\n",
            "\u001b[?25hCollecting onnxruntime-gpu==1.12.1\n",
            "  Downloading onnxruntime_gpu-1.12.1-cp38-cp38-manylinux_2_17_x86_64.manylinux2014_x86_64.whl (111.0 MB)\n",
            "\u001b[2K     \u001b[90m━━━━━━━━━━━━━━━━━━━━━━━━━━━━━━━━━━━━━━━\u001b[0m \u001b[32m111.0/111.0 MB\u001b[0m \u001b[31m9.8 MB/s\u001b[0m eta \u001b[36m0:00:00\u001b[0m\n",
            "\u001b[?25hRequirement already satisfied: opencv-python in /usr/local/lib/python3.8/dist-packages (from -r requirements.txt (line 5)) (4.6.0.66)\n",
            "Requirement already satisfied: scipy in /usr/local/lib/python3.8/dist-packages (from -r requirements.txt (line 6)) (1.7.3)\n",
            "Requirement already satisfied: pyyaml in /usr/local/lib/python3.8/dist-packages (from -r requirements.txt (line 7)) (6.0)\n",
            "Requirement already satisfied: easydict in /usr/local/lib/python3.8/dist-packages (from -r requirements.txt (line 8)) (1.10)\n",
            "Requirement already satisfied: gdown in /usr/local/lib/python3.8/dist-packages (from -r requirements.txt (line 9)) (4.4.0)\n",
            "Requirement already satisfied: pandas in /usr/local/lib/python3.8/dist-packages (from -r requirements.txt (line 10)) (1.3.5)\n",
            "Requirement already satisfied: tabulate in /usr/local/lib/python3.8/dist-packages (from -r requirements.txt (line 11)) (0.8.10)\n",
            "Collecting typing-extensions==3.10.0.2\n",
            "  Downloading typing_extensions-3.10.0.2-py3-none-any.whl (26 kB)\n",
            "Requirement already satisfied: wheel in /usr/local/lib/python3.8/dist-packages (from -r requirements.txt (line 13)) (0.38.4)\n",
            "Requirement already satisfied: torch in /usr/local/lib/python3.8/dist-packages (from -r requirements.txt (line 14)) (1.13.1+cu116)\n",
            "Requirement already satisfied: torchvision in /usr/local/lib/python3.8/dist-packages (from -r requirements.txt (line 15)) (0.14.1+cu116)\n",
            "Collecting numpy==1.23.3\n",
            "  Downloading numpy-1.23.3-cp38-cp38-manylinux_2_17_x86_64.manylinux2014_x86_64.whl (17.1 MB)\n",
            "\u001b[2K     \u001b[90m━━━━━━━━━━━━━━━━━━━━━━━━━━━━━━━━━━━━━━━\u001b[0m \u001b[32m17.1/17.1 MB\u001b[0m \u001b[31m100.1 MB/s\u001b[0m eta \u001b[36m0:00:00\u001b[0m\n",
            "\u001b[?25hRequirement already satisfied: Cython in /usr/local/lib/python3.8/dist-packages (from -r requirements.txt (line 17)) (0.29.33)\n",
            "Collecting ultralytics\n",
            "  Downloading ultralytics-8.0.25-py3-none-any.whl (271 kB)\n",
            "\u001b[2K     \u001b[90m━━━━━━━━━━━━━━━━━━━━━━━━━━━━━━━━━━━━━━\u001b[0m \u001b[32m271.1/271.1 KB\u001b[0m \u001b[31m27.7 MB/s\u001b[0m eta \u001b[36m0:00:00\u001b[0m\n",
            "\u001b[?25hRequirement already satisfied: flatbuffers in /usr/local/lib/python3.8/dist-packages (from onnxruntime-gpu==1.12.1->-r requirements.txt (line 4)) (1.12)\n",
            "Requirement already satisfied: packaging in /usr/local/lib/python3.8/dist-packages (from onnxruntime-gpu==1.12.1->-r requirements.txt (line 4)) (21.3)\n",
            "Requirement already satisfied: sympy in /usr/local/lib/python3.8/dist-packages (from onnxruntime-gpu==1.12.1->-r requirements.txt (line 4)) (1.7.1)\n",
            "Requirement already satisfied: protobuf in /usr/local/lib/python3.8/dist-packages (from onnxruntime-gpu==1.12.1->-r requirements.txt (line 4)) (3.19.6)\n",
            "Collecting coloredlogs\n",
            "  Downloading coloredlogs-15.0.1-py2.py3-none-any.whl (46 kB)\n",
            "\u001b[2K     \u001b[90m━━━━━━━━━━━━━━━━━━━━━━━━━━━━━━━━━━━━━━━━\u001b[0m \u001b[32m46.0/46.0 KB\u001b[0m \u001b[31m6.3 MB/s\u001b[0m eta \u001b[36m0:00:00\u001b[0m\n",
            "\u001b[?25hCollecting rich<13.0.0,>=9.10.0\n",
            "  Downloading rich-12.6.0-py3-none-any.whl (237 kB)\n",
            "\u001b[2K     \u001b[90m━━━━━━━━━━━━━━━━━━━━━━━━━━━━━━━━━━━━━━\u001b[0m \u001b[32m237.5/237.5 KB\u001b[0m \u001b[31m30.9 MB/s\u001b[0m eta \u001b[36m0:00:00\u001b[0m\n",
            "\u001b[?25hCollecting filterpy<2.0.0,>=1.4.5\n",
            "  Downloading filterpy-1.4.5.zip (177 kB)\n",
            "\u001b[2K     \u001b[90m━━━━━━━━━━━━━━━━━━━━━━━━━━━━━━━━━━━━━━\u001b[0m \u001b[32m178.0/178.0 KB\u001b[0m \u001b[31m24.3 MB/s\u001b[0m eta \u001b[36m0:00:00\u001b[0m\n",
            "\u001b[?25h  Preparing metadata (setup.py) ... \u001b[?25l\u001b[?25hdone\n",
            "Collecting scipy\n",
            "  Downloading scipy-1.10.0-cp38-cp38-manylinux_2_17_x86_64.manylinux2014_x86_64.whl (34.5 MB)\n",
            "\u001b[2K     \u001b[90m━━━━━━━━━━━━━━━━━━━━━━━━━━━━━━━━━━━━━━━━\u001b[0m \u001b[32m34.5/34.5 MB\u001b[0m \u001b[31m18.8 MB/s\u001b[0m eta \u001b[36m0:00:00\u001b[0m\n",
            "\u001b[?25hRequirement already satisfied: requests[socks] in /usr/local/lib/python3.8/dist-packages (from gdown->-r requirements.txt (line 9)) (2.25.1)\n",
            "Requirement already satisfied: tqdm in /usr/local/lib/python3.8/dist-packages (from gdown->-r requirements.txt (line 9)) (4.64.1)\n",
            "Requirement already satisfied: six in /usr/local/lib/python3.8/dist-packages (from gdown->-r requirements.txt (line 9)) (1.15.0)\n",
            "Requirement already satisfied: beautifulsoup4 in /usr/local/lib/python3.8/dist-packages (from gdown->-r requirements.txt (line 9)) (4.6.3)\n",
            "Requirement already satisfied: filelock in /usr/local/lib/python3.8/dist-packages (from gdown->-r requirements.txt (line 9)) (3.9.0)\n",
            "Requirement already satisfied: pytz>=2017.3 in /usr/local/lib/python3.8/dist-packages (from pandas->-r requirements.txt (line 10)) (2022.7)\n",
            "Requirement already satisfied: python-dateutil>=2.7.3 in /usr/local/lib/python3.8/dist-packages (from pandas->-r requirements.txt (line 10)) (2.8.2)\n",
            "Requirement already satisfied: pillow!=8.3.*,>=5.3.0 in /usr/local/lib/python3.8/dist-packages (from torchvision->-r requirements.txt (line 15)) (7.1.2)\n",
            "Requirement already satisfied: ipython in /usr/local/lib/python3.8/dist-packages (from ultralytics->-r requirements.txt (line 18)) (7.9.0)\n",
            "Collecting sentry-sdk\n",
            "  Downloading sentry_sdk-1.14.0-py2.py3-none-any.whl (178 kB)\n",
            "\u001b[2K     \u001b[90m━━━━━━━━━━━━━━━━━━━━━━━━━━━━━━━━━━━━━━\u001b[0m \u001b[32m178.9/178.9 KB\u001b[0m \u001b[31m26.7 MB/s\u001b[0m eta \u001b[36m0:00:00\u001b[0m\n",
            "\u001b[?25hRequirement already satisfied: tensorboard>=2.4.1 in /usr/local/lib/python3.8/dist-packages (from ultralytics->-r requirements.txt (line 18)) (2.9.1)\n",
            "Requirement already satisfied: seaborn>=0.11.0 in /usr/local/lib/python3.8/dist-packages (from ultralytics->-r requirements.txt (line 18)) (0.11.2)\n",
            "Collecting thop>=0.1.1\n",
            "  Downloading thop-0.1.1.post2209072238-py3-none-any.whl (15 kB)\n",
            "Requirement already satisfied: matplotlib>=3.2.2 in /usr/local/lib/python3.8/dist-packages (from ultralytics->-r requirements.txt (line 18)) (3.2.2)\n",
            "Requirement already satisfied: psutil in /usr/local/lib/python3.8/dist-packages (from ultralytics->-r requirements.txt (line 18)) (5.4.8)\n",
            "Requirement already satisfied: kiwisolver>=1.0.1 in /usr/local/lib/python3.8/dist-packages (from matplotlib>=3.2.2->ultralytics->-r requirements.txt (line 18)) (1.4.4)\n",
            "Requirement already satisfied: cycler>=0.10 in /usr/local/lib/python3.8/dist-packages (from matplotlib>=3.2.2->ultralytics->-r requirements.txt (line 18)) (0.11.0)\n",
            "Requirement already satisfied: pyparsing!=2.0.4,!=2.1.2,!=2.1.6,>=2.0.1 in /usr/local/lib/python3.8/dist-packages (from matplotlib>=3.2.2->ultralytics->-r requirements.txt (line 18)) (3.0.9)\n",
            "Requirement already satisfied: idna<3,>=2.5 in /usr/local/lib/python3.8/dist-packages (from requests[socks]->gdown->-r requirements.txt (line 9)) (2.10)\n",
            "Requirement already satisfied: urllib3<1.27,>=1.21.1 in /usr/local/lib/python3.8/dist-packages (from requests[socks]->gdown->-r requirements.txt (line 9)) (1.24.3)\n",
            "Requirement already satisfied: chardet<5,>=3.0.2 in /usr/local/lib/python3.8/dist-packages (from requests[socks]->gdown->-r requirements.txt (line 9)) (4.0.0)\n",
            "Requirement already satisfied: certifi>=2017.4.17 in /usr/local/lib/python3.8/dist-packages (from requests[socks]->gdown->-r requirements.txt (line 9)) (2022.12.7)\n",
            "Collecting commonmark<0.10.0,>=0.9.0\n",
            "  Downloading commonmark-0.9.1-py2.py3-none-any.whl (51 kB)\n",
            "\u001b[2K     \u001b[90m━━━━━━━━━━━━━━━━━━━━━━━━━━━━━━━━━━━━━━━━\u001b[0m \u001b[32m51.1/51.1 KB\u001b[0m \u001b[31m7.9 MB/s\u001b[0m eta \u001b[36m0:00:00\u001b[0m\n",
            "\u001b[?25hCollecting rich<13.0.0,>=9.10.0\n",
            "  Downloading rich-12.5.1-py3-none-any.whl (235 kB)\n",
            "\u001b[2K     \u001b[90m━━━━━━━━━━━━━━━━━━━━━━━━━━━━━━━━━━━━━━\u001b[0m \u001b[32m235.6/235.6 KB\u001b[0m \u001b[31m27.6 MB/s\u001b[0m eta \u001b[36m0:00:00\u001b[0m\n",
            "\u001b[?25h  Downloading rich-12.5.0-py3-none-any.whl (235 kB)\n",
            "\u001b[2K     \u001b[90m━━━━━━━━━━━━━━━━━━━━━━━━━━━━━━━━━━━━━━\u001b[0m \u001b[32m235.7/235.7 KB\u001b[0m \u001b[31m34.6 MB/s\u001b[0m eta \u001b[36m0:00:00\u001b[0m\n",
            "\u001b[?25h  Downloading rich-12.4.4-py3-none-any.whl (232 kB)\n",
            "\u001b[2K     \u001b[90m━━━━━━━━━━━━━━━━━━━━━━━━━━━━━━━━━━━━━━\u001b[0m \u001b[32m232.0/232.0 KB\u001b[0m \u001b[31m28.9 MB/s\u001b[0m eta \u001b[36m0:00:00\u001b[0m\n",
            "\u001b[?25h  Downloading rich-12.4.3-py3-none-any.whl (231 kB)\n",
            "\u001b[2K     \u001b[90m━━━━━━━━━━━━━━━━━━━━━━━━━━━━━━━━━━━━━━\u001b[0m \u001b[32m231.9/231.9 KB\u001b[0m \u001b[31m34.1 MB/s\u001b[0m eta \u001b[36m0:00:00\u001b[0m\n",
            "\u001b[?25h  Downloading rich-12.4.2-py3-none-any.whl (231 kB)\n",
            "\u001b[2K     \u001b[90m━━━━━━━━━━━━━━━━━━━━━━━━━━━━━━━━━━━━━━\u001b[0m \u001b[32m231.8/231.8 KB\u001b[0m \u001b[31m23.8 MB/s\u001b[0m eta \u001b[36m0:00:00\u001b[0m\n",
            "\u001b[?25h  Downloading rich-12.4.1-py3-none-any.whl (231 kB)\n",
            "\u001b[2K     \u001b[90m━━━━━━━━━━━━━━━━━━━━━━━━━━━━━━━━━━━━━━\u001b[0m \u001b[32m231.8/231.8 KB\u001b[0m \u001b[31m34.5 MB/s\u001b[0m eta \u001b[36m0:00:00\u001b[0m\n",
            "\u001b[?25h  Downloading rich-12.4.0-py3-none-any.whl (231 kB)\n",
            "\u001b[2K     \u001b[90m━━━━━━━━━━━━━━━━━━━━━━━━━━━━━━━━━━━━━━\u001b[0m \u001b[32m231.6/231.6 KB\u001b[0m \u001b[31m30.6 MB/s\u001b[0m eta \u001b[36m0:00:00\u001b[0m\n",
            "\u001b[?25h  Downloading rich-12.3.0-py3-none-any.whl (232 kB)\n",
            "\u001b[2K     \u001b[90m━━━━━━━━━━━━━━━━━━━━━━━━━━━━━━━━━━━━━━\u001b[0m \u001b[32m232.1/232.1 KB\u001b[0m \u001b[31m31.3 MB/s\u001b[0m eta \u001b[36m0:00:00\u001b[0m\n",
            "\u001b[?25h  Downloading rich-12.2.0-py3-none-any.whl (229 kB)\n",
            "\u001b[2K     \u001b[90m━━━━━━━━━━━━━━━━━━━━━━━━━━━━━━━━━━━━━━\u001b[0m \u001b[32m229.8/229.8 KB\u001b[0m \u001b[31m33.7 MB/s\u001b[0m eta \u001b[36m0:00:00\u001b[0m\n",
            "\u001b[?25h  Downloading rich-12.0.1-py3-none-any.whl (224 kB)\n",
            "\u001b[2K     \u001b[90m━━━━━━━━━━━━━━━━━━━━━━━━━━━━━━━━━━━━━━\u001b[0m \u001b[32m224.2/224.2 KB\u001b[0m \u001b[31m33.2 MB/s\u001b[0m eta \u001b[36m0:00:00\u001b[0m\n",
            "\u001b[?25hRequirement already satisfied: pygments<3.0.0,>=2.6.0 in /usr/local/lib/python3.8/dist-packages (from rich<13.0.0,>=9.10.0->norfair->-r requirements.txt (line 3)) (2.6.1)\n",
            "Requirement already satisfied: google-auth-oauthlib<0.5,>=0.4.1 in /usr/local/lib/python3.8/dist-packages (from tensorboard>=2.4.1->ultralytics->-r requirements.txt (line 18)) (0.4.6)\n",
            "Requirement already satisfied: tensorboard-plugin-wit>=1.6.0 in /usr/local/lib/python3.8/dist-packages (from tensorboard>=2.4.1->ultralytics->-r requirements.txt (line 18)) (1.8.1)\n",
            "Requirement already satisfied: werkzeug>=1.0.1 in /usr/local/lib/python3.8/dist-packages (from tensorboard>=2.4.1->ultralytics->-r requirements.txt (line 18)) (1.0.1)\n",
            "Requirement already satisfied: tensorboard-data-server<0.7.0,>=0.6.0 in /usr/local/lib/python3.8/dist-packages (from tensorboard>=2.4.1->ultralytics->-r requirements.txt (line 18)) (0.6.1)\n",
            "Requirement already satisfied: absl-py>=0.4 in /usr/local/lib/python3.8/dist-packages (from tensorboard>=2.4.1->ultralytics->-r requirements.txt (line 18)) (1.3.0)\n",
            "Requirement already satisfied: google-auth<3,>=1.6.3 in /usr/local/lib/python3.8/dist-packages (from tensorboard>=2.4.1->ultralytics->-r requirements.txt (line 18)) (2.16.0)\n",
            "Requirement already satisfied: grpcio>=1.24.3 in /usr/local/lib/python3.8/dist-packages (from tensorboard>=2.4.1->ultralytics->-r requirements.txt (line 18)) (1.51.1)\n",
            "Requirement already satisfied: markdown>=2.6.8 in /usr/local/lib/python3.8/dist-packages (from tensorboard>=2.4.1->ultralytics->-r requirements.txt (line 18)) (3.4.1)\n",
            "Requirement already satisfied: setuptools>=41.0.0 in /usr/local/lib/python3.8/dist-packages (from tensorboard>=2.4.1->ultralytics->-r requirements.txt (line 18)) (57.4.0)\n",
            "Collecting humanfriendly>=9.1\n",
            "  Downloading humanfriendly-10.0-py2.py3-none-any.whl (86 kB)\n",
            "\u001b[2K     \u001b[90m━━━━━━━━━━━━━━━━━━━━━━━━━━━━━━━━━━━━━━━━\u001b[0m \u001b[32m86.8/86.8 KB\u001b[0m \u001b[31m13.5 MB/s\u001b[0m eta \u001b[36m0:00:00\u001b[0m\n",
            "\u001b[?25hRequirement already satisfied: traitlets>=4.2 in /usr/local/lib/python3.8/dist-packages (from ipython->ultralytics->-r requirements.txt (line 18)) (5.7.1)\n",
            "Requirement already satisfied: prompt-toolkit<2.1.0,>=2.0.0 in /usr/local/lib/python3.8/dist-packages (from ipython->ultralytics->-r requirements.txt (line 18)) (2.0.10)\n",
            "Requirement already satisfied: backcall in /usr/local/lib/python3.8/dist-packages (from ipython->ultralytics->-r requirements.txt (line 18)) (0.2.0)\n",
            "Collecting jedi>=0.10\n",
            "  Downloading jedi-0.18.2-py2.py3-none-any.whl (1.6 MB)\n",
            "\u001b[2K     \u001b[90m━━━━━━━━━━━━━━━━━━━━━━━━━━━━━━━━━━━━━━━━\u001b[0m \u001b[32m1.6/1.6 MB\u001b[0m \u001b[31m68.7 MB/s\u001b[0m eta \u001b[36m0:00:00\u001b[0m\n",
            "\u001b[?25hRequirement already satisfied: pickleshare in /usr/local/lib/python3.8/dist-packages (from ipython->ultralytics->-r requirements.txt (line 18)) (0.7.5)\n",
            "Requirement already satisfied: pexpect in /usr/local/lib/python3.8/dist-packages (from ipython->ultralytics->-r requirements.txt (line 18)) (4.8.0)\n",
            "Requirement already satisfied: decorator in /usr/local/lib/python3.8/dist-packages (from ipython->ultralytics->-r requirements.txt (line 18)) (4.4.2)\n",
            "Requirement already satisfied: PySocks!=1.5.7,>=1.5.6 in /usr/local/lib/python3.8/dist-packages (from requests[socks]->gdown->-r requirements.txt (line 9)) (1.7.1)\n",
            "Collecting urllib3<1.27,>=1.21.1\n",
            "  Downloading urllib3-1.26.14-py2.py3-none-any.whl (140 kB)\n",
            "\u001b[2K     \u001b[90m━━━━━━━━━━━━━━━━━━━━━━━━━━━━━━━━━━━━━━\u001b[0m \u001b[32m140.6/140.6 KB\u001b[0m \u001b[31m19.2 MB/s\u001b[0m eta \u001b[36m0:00:00\u001b[0m\n",
            "\u001b[?25hRequirement already satisfied: mpmath>=0.19 in /usr/local/lib/python3.8/dist-packages (from sympy->onnxruntime-gpu==1.12.1->-r requirements.txt (line 4)) (1.2.1)\n",
            "Requirement already satisfied: pyasn1-modules>=0.2.1 in /usr/local/lib/python3.8/dist-packages (from google-auth<3,>=1.6.3->tensorboard>=2.4.1->ultralytics->-r requirements.txt (line 18)) (0.2.8)\n",
            "Requirement already satisfied: rsa<5,>=3.1.4 in /usr/local/lib/python3.8/dist-packages (from google-auth<3,>=1.6.3->tensorboard>=2.4.1->ultralytics->-r requirements.txt (line 18)) (4.9)\n",
            "Requirement already satisfied: cachetools<6.0,>=2.0.0 in /usr/local/lib/python3.8/dist-packages (from google-auth<3,>=1.6.3->tensorboard>=2.4.1->ultralytics->-r requirements.txt (line 18)) (5.2.1)\n",
            "Requirement already satisfied: requests-oauthlib>=0.7.0 in /usr/local/lib/python3.8/dist-packages (from google-auth-oauthlib<0.5,>=0.4.1->tensorboard>=2.4.1->ultralytics->-r requirements.txt (line 18)) (1.3.1)\n",
            "Requirement already satisfied: parso<0.9.0,>=0.8.0 in /usr/local/lib/python3.8/dist-packages (from jedi>=0.10->ipython->ultralytics->-r requirements.txt (line 18)) (0.8.3)\n",
            "Requirement already satisfied: importlib-metadata>=4.4 in /usr/local/lib/python3.8/dist-packages (from markdown>=2.6.8->tensorboard>=2.4.1->ultralytics->-r requirements.txt (line 18)) (6.0.0)\n",
            "Requirement already satisfied: wcwidth in /usr/local/lib/python3.8/dist-packages (from prompt-toolkit<2.1.0,>=2.0.0->ipython->ultralytics->-r requirements.txt (line 18)) (0.2.5)\n",
            "Requirement already satisfied: ptyprocess>=0.5 in /usr/local/lib/python3.8/dist-packages (from pexpect->ipython->ultralytics->-r requirements.txt (line 18)) (0.7.0)\n",
            "Requirement already satisfied: zipp>=0.5 in /usr/local/lib/python3.8/dist-packages (from importlib-metadata>=4.4->markdown>=2.6.8->tensorboard>=2.4.1->ultralytics->-r requirements.txt (line 18)) (3.11.0)\n",
            "Requirement already satisfied: pyasn1<0.5.0,>=0.4.6 in /usr/local/lib/python3.8/dist-packages (from pyasn1-modules>=0.2.1->google-auth<3,>=1.6.3->tensorboard>=2.4.1->ultralytics->-r requirements.txt (line 18)) (0.4.8)\n",
            "Requirement already satisfied: oauthlib>=3.0.0 in /usr/local/lib/python3.8/dist-packages (from requests-oauthlib>=0.7.0->google-auth-oauthlib<0.5,>=0.4.1->tensorboard>=2.4.1->ultralytics->-r requirements.txt (line 18)) (3.2.2)\n",
            "Building wheels for collected packages: lap, filterpy\n",
            "  Building wheel for lap (setup.py) ... \u001b[?25l\u001b[?25hdone\n",
            "  Created wheel for lap: filename=lap-0.4.0-cp38-cp38-linux_x86_64.whl size=1679728 sha256=b064fa2d0d61a6cad4721ed4c704dc6cb6cd16baca4cac4bc59299a2bd1d86c4\n",
            "  Stored in directory: /root/.cache/pip/wheels/86/ec/8a/2baa6fb3ea3a3bdc40a9c2c4b8957b5b544f207531f7a78a89\n",
            "  Building wheel for filterpy (setup.py) ... \u001b[?25l\u001b[?25hdone\n",
            "  Created wheel for filterpy: filename=filterpy-1.4.5-py3-none-any.whl size=110474 sha256=f1d2d7682e504e9f4fcbbf338075efc53dda0b48ccb6b44924ef3fef2ee5adf1\n",
            "  Stored in directory: /root/.cache/pip/wheels/fe/f6/cb/40331472edf4fd399b8cad02973c6acbdf26898342928327fe\n",
            "Successfully built lap filterpy\n",
            "Installing collected packages: typing-extensions, lap, commonmark, urllib3, rich, numpy, loguru, jedi, humanfriendly, thop, sentry-sdk, scipy, coloredlogs, onnxruntime-gpu, filterpy, norfair, ultralytics\n",
            "  Attempting uninstall: typing-extensions\n",
            "    Found existing installation: typing_extensions 4.4.0\n",
            "    Uninstalling typing_extensions-4.4.0:\n",
            "      Successfully uninstalled typing_extensions-4.4.0\n",
            "  Attempting uninstall: urllib3\n",
            "    Found existing installation: urllib3 1.24.3\n",
            "    Uninstalling urllib3-1.24.3:\n",
            "      Successfully uninstalled urllib3-1.24.3\n",
            "  Attempting uninstall: numpy\n",
            "    Found existing installation: numpy 1.21.6\n",
            "    Uninstalling numpy-1.21.6:\n",
            "      Successfully uninstalled numpy-1.21.6\n",
            "  Attempting uninstall: scipy\n",
            "    Found existing installation: scipy 1.7.3\n",
            "    Uninstalling scipy-1.7.3:\n",
            "      Successfully uninstalled scipy-1.7.3\n",
            "\u001b[31mERROR: pip's dependency resolver does not currently take into account all the packages that are installed. This behaviour is the source of the following dependency conflicts.\n",
            "pydantic 1.10.4 requires typing-extensions>=4.2.0, but you have typing-extensions 3.10.0.2 which is incompatible.\u001b[0m\u001b[31m\n",
            "\u001b[0mSuccessfully installed coloredlogs-15.0.1 commonmark-0.9.1 filterpy-1.4.5 humanfriendly-10.0 jedi-0.18.2 lap-0.4.0 loguru-0.6.0 norfair-2.2.0 numpy-1.23.3 onnxruntime-gpu-1.12.1 rich-12.0.1 scipy-1.10.0 sentry-sdk-1.14.0 thop-0.1.1.post2209072238 typing-extensions-3.10.0.2 ultralytics-8.0.25 urllib3-1.26.14\n"
          ]
        }
      ],
      "source": [
        "# Download AS-One repository and install requirements\n",
        "\n",
        "!git clone https://github.com/augmentedstartups/AS-One.git\n",
        "%cd AS-One\n",
        "!pip install cython-bbox\n",
        "!pip install -r requirements.txt"
      ]
    },
    {
      "cell_type": "markdown",
      "metadata": {
        "id": "yLQ5QmXgiOGS"
      },
      "source": [
        "# **2. Creating a Virtual Screen in Colab**"
      ]
    },
    {
      "cell_type": "code",
      "execution_count": 2,
      "metadata": {
        "id": "9498AGL34cbU"
      },
      "outputs": [],
      "source": [
        "!sudo apt-get clean \n"
      ]
    },
    {
      "cell_type": "code",
      "execution_count": 3,
      "metadata": {
        "colab": {
          "base_uri": "https://localhost:8080/"
        },
        "id": "DgQFIvkB4duP",
        "outputId": "f0058b00-e910-4210-81d1-9c2ab9db345a"
      },
      "outputs": [
        {
          "output_type": "stream",
          "name": "stdout",
          "text": [
            "\r0% [Working]\r            \rGet:1 http://security.ubuntu.com/ubuntu focal-security InRelease [114 kB]\n",
            "\r            \rGet:2 https://cloud.r-project.org/bin/linux/ubuntu focal-cran40/ InRelease [3,622 B]\n",
            "\r0% [Connecting to archive.ubuntu.com (185.125.190.36)] [1 InRelease 20.0 kB/114\r0% [Connecting to archive.ubuntu.com (185.125.190.36)] [Waiting for headers] [C\r                                                                               \rHit:3 http://archive.ubuntu.com/ubuntu focal InRelease\n",
            "\r                                                                               \r0% [Waiting for headers] [Waiting for headers]\r0% [Waiting for headers] [Waiting for headers] [Waiting for headers]\r                                                                    \rIgn:4 https://developer.download.nvidia.com/compute/machine-learning/repos/ubuntu2004/x86_64  InRelease\n",
            "\r0% [Waiting for headers] [Waiting for headers] [Waiting for headers]\r                                                                    \rGet:5 https://developer.download.nvidia.com/compute/cuda/repos/ubuntu2004/x86_64  InRelease [1,581 B]\n",
            "\r                                                                    \r0% [Waiting for headers] [Waiting for headers]\r                                              \rHit:6 https://developer.download.nvidia.com/compute/machine-learning/repos/ubuntu2004/x86_64  Release\n",
            "\r0% [Waiting for headers] [Waiting for headers]\r                                              \rHit:7 http://ppa.launchpad.net/c2d4u.team/c2d4u4.0+/ubuntu focal InRelease\n",
            "\r0% [Waiting for headers] [Connecting to ppa.launchpad.net (185.125.190.52)]\r                                                                           \rGet:8 http://archive.ubuntu.com/ubuntu focal-updates InRelease [114 kB]\n",
            "Get:9 http://security.ubuntu.com/ubuntu focal-security/main amd64 Packages [2,448 kB]\n",
            "Get:10 http://security.ubuntu.com/ubuntu focal-security/universe amd64 Packages [990 kB]\n",
            "Hit:11 http://ppa.launchpad.net/cran/libgit2/ubuntu focal InRelease\n",
            "Get:12 https://developer.download.nvidia.com/compute/cuda/repos/ubuntu2004/x86_64  Packages [870 kB]\n",
            "Hit:13 http://ppa.launchpad.net/deadsnakes/ppa/ubuntu focal InRelease\n",
            "Get:14 http://archive.ubuntu.com/ubuntu focal-backports InRelease [108 kB]\n",
            "Hit:16 http://ppa.launchpad.net/graphics-drivers/ppa/ubuntu focal InRelease\n",
            "Get:17 http://archive.ubuntu.com/ubuntu focal-updates/universe amd64 Packages [1,291 kB]\n",
            "Get:18 http://archive.ubuntu.com/ubuntu focal-updates/main amd64 Packages [2,921 kB]\n",
            "Get:19 http://archive.ubuntu.com/ubuntu focal-backports/universe amd64 Packages [28.6 kB]\n",
            "Fetched 8,890 kB in 2s (5,460 kB/s)\n",
            "Reading package lists... Done\n"
          ]
        }
      ],
      "source": [
        "!sudo apt-get update"
      ]
    },
    {
      "cell_type": "code",
      "execution_count": 4,
      "metadata": {
        "colab": {
          "base_uri": "https://localhost:8080/"
        },
        "id": "sbepg_Wuc2pt",
        "outputId": "cdc3e76a-e65d-44fe-dd6c-98d7c5f1b943"
      },
      "outputs": [
        {
          "output_type": "stream",
          "name": "stdout",
          "text": [
            "Reading package lists... Done\n",
            "Building dependency tree       \n",
            "Reading state information... Done\n",
            "The following package was automatically installed and is no longer required:\n",
            "  libnvidia-common-510\n",
            "Use 'apt autoremove' to remove it.\n",
            "The following NEW packages will be installed:\n",
            "  xvfb\n",
            "0 upgraded, 1 newly installed, 0 to remove and 27 not upgraded.\n",
            "Need to get 780 kB of archives.\n",
            "After this operation, 2,271 kB of additional disk space will be used.\n",
            "Get:1 http://archive.ubuntu.com/ubuntu focal-updates/universe amd64 xvfb amd64 2:1.20.13-1ubuntu1~20.04.5 [780 kB]\n",
            "Fetched 780 kB in 1s (1,243 kB/s)\n",
            "Selecting previously unselected package xvfb.\n",
            "(Reading database ... 129496 files and directories currently installed.)\n",
            "Preparing to unpack .../xvfb_2%3a1.20.13-1ubuntu1~20.04.5_amd64.deb ...\n",
            "Unpacking xvfb (2:1.20.13-1ubuntu1~20.04.5) ...\n",
            "Setting up xvfb (2:1.20.13-1ubuntu1~20.04.5) ...\n",
            "Processing triggers for man-db (2.9.1-1) ...\n"
          ]
        }
      ],
      "source": [
        "!apt-get install -y xvfb # Install X Virtual Frame Buffer\n",
        "import os\n",
        "os.system('Xvfb :1 -screen 0 1600x1200x16  &')    # create virtual display with size 1600x1200 and 16 bit color. Color can be changed to 24 or 8\n",
        "os.environ['DISPLAY']=':1.0'  "
      ]
    },
    {
      "cell_type": "markdown",
      "metadata": {
        "id": "3o6A7GcQilpm"
      },
      "source": [
        "# **3. Running AS-One**"
      ]
    },
    {
      "cell_type": "markdown",
      "metadata": {
        "id": "K6WBZ7iskwPw"
      },
      "source": [
        "Currently YOLOX model is used for the implementation, if you want to use YOLOv5, YOLOv6 or YOLOv7, Open the AS-One github repository, open the \"Benchmarks\" section, copy the Model Name of your choice, open the main.py and add the model of your choice in the line 13, as shown in the figure below\n",
        "\n"
      ]
    },
    {
      "cell_type": "markdown",
      "metadata": {
        "id": "FlUuMAV6mC2P"
      },
      "source": [
        "![image.png](data:image/png;base64,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)"
      ]
    },
    {
      "cell_type": "code",
      "execution_count": 5,
      "metadata": {
        "id": "bN6svlDq52qk"
      },
      "outputs": [],
      "source": [
        "import torch\n",
        "torch.cuda.empty_cache()"
      ]
    },
    {
      "cell_type": "code",
      "execution_count": 6,
      "metadata": {
        "colab": {
          "base_uri": "https://localhost:8080/",
          "height": 244
        },
        "id": "sTHZURLX5_g3",
        "outputId": "e5791a90-2a13-41be-8756-062505ac4f47"
      },
      "outputs": [
        {
          "output_type": "execute_result",
          "data": {
            "text/plain": [
              "'|===========================================================================|\\n|                  PyTorch CUDA memory summary, device ID 0                 |\\n|---------------------------------------------------------------------------|\\n|            CUDA OOMs: 0            |        cudaMalloc retries: 0         |\\n|===========================================================================|\\n|        Metric         | Cur Usage  | Peak Usage | Tot Alloc  | Tot Freed  |\\n|---------------------------------------------------------------------------|\\n| Allocated memory      |       0 B  |       0 B  |       0 B  |       0 B  |\\n|       from large pool |       0 B  |       0 B  |       0 B  |       0 B  |\\n|       from small pool |       0 B  |       0 B  |       0 B  |       0 B  |\\n|---------------------------------------------------------------------------|\\n| Active memory         |       0 B  |       0 B  |       0 B  |       0 B  |\\n|       from large pool |       0 B  |       0 B  |       0 B  |       0 B  |\\n|       from small pool |       0 B  |       0 B  |       0 B  |       0 B  |\\n|---------------------------------------------------------------------------|\\n| GPU reserved memory   |       0 B  |       0 B  |       0 B  |       0 B  |\\n|       from large pool |       0 B  |       0 B  |       0 B  |       0 B  |\\n|       from small pool |       0 B  |       0 B  |       0 B  |       0 B  |\\n|---------------------------------------------------------------------------|\\n| Non-releasable memory |       0 B  |       0 B  |       0 B  |       0 B  |\\n|       from large pool |       0 B  |       0 B  |       0 B  |       0 B  |\\n|       from small pool |       0 B  |       0 B  |       0 B  |       0 B  |\\n|---------------------------------------------------------------------------|\\n| Allocations           |       0    |       0    |       0    |       0    |\\n|       from large pool |       0    |       0    |       0    |       0    |\\n|       from small pool |       0    |       0    |       0    |       0    |\\n|---------------------------------------------------------------------------|\\n| Active allocs         |       0    |       0    |       0    |       0    |\\n|       from large pool |       0    |       0    |       0    |       0    |\\n|       from small pool |       0    |       0    |       0    |       0    |\\n|---------------------------------------------------------------------------|\\n| GPU reserved segments |       0    |       0    |       0    |       0    |\\n|       from large pool |       0    |       0    |       0    |       0    |\\n|       from small pool |       0    |       0    |       0    |       0    |\\n|---------------------------------------------------------------------------|\\n| Non-releasable allocs |       0    |       0    |       0    |       0    |\\n|       from large pool |       0    |       0    |       0    |       0    |\\n|       from small pool |       0    |       0    |       0    |       0    |\\n|---------------------------------------------------------------------------|\\n| Oversize allocations  |       0    |       0    |       0    |       0    |\\n|---------------------------------------------------------------------------|\\n| Oversize GPU segments |       0    |       0    |       0    |       0    |\\n|===========================================================================|\\n'"
            ],
            "application/vnd.google.colaboratory.intrinsic+json": {
              "type": "string"
            }
          },
          "metadata": {},
          "execution_count": 6
        }
      ],
      "source": [
        "torch.cuda.memory_summary(device=None, abbreviated=False)\n"
      ]
    },
    {
      "cell_type": "code",
      "execution_count": 7,
      "metadata": {
        "id": "7alBC54j5072",
        "colab": {
          "base_uri": "https://localhost:8080/"
        },
        "outputId": "9434aa10-c25c-4a6e-f281-ce188eac167d"
      },
      "outputs": [
        {
          "output_type": "stream",
          "name": "stdout",
          "text": [
            "Mounted at /content/drive\n"
          ]
        }
      ],
      "source": [
        "from google.colab import drive\n",
        "drive.mount('/content/drive')"
      ]
    },
    {
      "cell_type": "code",
      "execution_count": 13,
      "metadata": {
        "colab": {
          "base_uri": "https://localhost:8080/"
        },
        "id": "R28ZIzmubNfC",
        "outputId": "cab0dfad-4c3f-40df-c065-625ca1fe4784"
      },
      "outputs": [
        {
          "output_type": "stream",
          "name": "stdout",
          "text": [
            "/content/AS-One\n",
            "YOLOv8s summary (fused): 168 layers, 11156544 parameters, 0 gradients, 28.6 GFLOPs\n",
            "/content/AS-One/asone/detectors/yolov8/yolov8_detector.py:108: UserWarning: class whd not found in model classes list.\n",
            "  warnings.warn(\n"
          ]
        }
      ],
      "source": [
        "%cd /content/AS-One\n",
        "!python main.py -w /content/drive/MyDrive/dds/wheat.pt"
      ]
    },
    {
      "cell_type": "code",
      "execution_count": null,
      "metadata": {
        "colab": {
          "background_save": true
        },
        "id": "Bg7l9epCjLf1"
      },
      "outputs": [],
      "source": [
        "from IPython.display import HTML\n",
        "from base64 import b64encode\n",
        "import os\n",
        "\n",
        "# Input video path\n",
        "save_path = '/content/AS-One/data/results/ss.mp4'\n",
        "\n",
        "# Compressed video path\n",
        "compressed_path = \"/content/dd.mp4\"\n",
        "\n",
        "os.system(f\"ffmpeg -i {save_path} -vcodec libx264 {compressed_path}\")\n",
        "\n",
        "# Show video\n",
        "mp4 = open(compressed_path,'rb').read()\n",
        "data_url = \"data:video/mp4;base64,\" + b64encode(mp4).decode()\n",
        "HTML(\"\"\"\n",
        "<video width=400 controls>\n",
        "      <source src=\"%s\" type=\"video/mp4\">\n",
        "</video>\n",
        "\"\"\" % data_url)"
      ]
    },
    {
      "cell_type": "code",
      "execution_count": null,
      "metadata": {
        "id": "DTNH7mJr-Dkl"
      },
      "outputs": [],
      "source": []
    },
    {
      "cell_type": "markdown",
      "metadata": {
        "id": "-eTgavf-kUMX"
      },
      "source": [
        "# **4. Tracking Trails**"
      ]
    },
    {
      "cell_type": "code",
      "execution_count": null,
      "metadata": {
        "colab": {
          "background_save": true
        },
        "id": "-NrAD0hhrc1c"
      },
      "outputs": [],
      "source": [
        "%rm /content/dd.mp4"
      ]
    },
    {
      "cell_type": "code",
      "execution_count": null,
      "metadata": {
        "id": "TpXIsr5ubtOU"
      },
      "outputs": [],
      "source": [
        "!python main.py  'data/sample_videos/video2.mp4' --draw_trails \n"
      ]
    },
    {
      "cell_type": "code",
      "execution_count": null,
      "metadata": {
        "id": "q2M6h7caeSq0"
      },
      "outputs": [],
      "source": [
        "from IPython.display import HTML\n",
        "from base64 import b64encode\n",
        "import os\n",
        "\n",
        "# Input video path\n",
        "save_path = '/content/AS-One/data/results/video2.mp4'\n",
        "\n",
        "# Compressed video path\n",
        "compressed_path = \"/content/result_compressed.mp4\"\n",
        "\n",
        "os.system(f\"ffmpeg -i {save_path} -vcodec libx264 {compressed_path}\")\n",
        "\n",
        "# Show video\n",
        "mp4 = open(compressed_path,'rb').read()\n",
        "data_url = \"data:video/mp4;base64,\" + b64encode(mp4).decode()\n",
        "HTML(\"\"\"\n",
        "<video width=400 controls>\n",
        "      <source src=\"%s\" type=\"video/mp4\">\n",
        "</video>\n",
        "\"\"\" % data_url)"
      ]
    },
    {
      "cell_type": "markdown",
      "metadata": {
        "id": "nV72Nkxb2QVY"
      },
      "source": [
        "# **Enjoyed this Tutorial?**  \n",
        "☕Support me by Buying Me a [Chai/Coffee](https://bit.ly/BuymeaCoffeeAS)\n",
        "\n",
        "# **Want to Learn More Computer Vision?**\n",
        "💻Courses in Computer Vision [Enroll Now](https://augmentedstartups.com/store). <br>\n",
        "⭐ Download Other Projects at the [AI Vision Store](https://store.augmentedstartups.com)<br>\n",
        "▶️ Subscribe to my [YouTube Channel](https://augmentedstartups.info/youtube)<br>\n",
        "\n",
        "\n",
        "![picture](https://kajabi-storefronts-production.kajabi-cdn.com/kajabi-storefronts-production/sites/104576/images/Vc8nhFV6Rgmi402Wqm0Q_AugmentedStartupsSideROBOTICSNEW.png)"
      ]
    }
  ],
  "metadata": {
    "accelerator": "GPU",
    "colab": {
      "provenance": []
    },
    "gpuClass": "standard",
    "kernelspec": {
      "display_name": "Python 3",
      "name": "python3"
    },
    "language_info": {
      "name": "python"
    }
  },
  "nbformat": 4,
  "nbformat_minor": 0
}